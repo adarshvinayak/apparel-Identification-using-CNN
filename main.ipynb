{
  "nbformat": 4,
  "nbformat_minor": 0,
  "metadata": {
    "colab": {
      "name": "Apparel Identification using CNN",
      "provenance": [],
      "collapsed_sections": [],
      "toc_visible": true
    },
    "kernelspec": {
      "name": "python3",
      "display_name": "Python 3"
    }
  },
  "cells": [
    {
      "cell_type": "markdown",
      "metadata": {
        "id": "2GGH3PSUvnrL",
        "colab_type": "text"
      },
      "source": [
        "# Setting up Colab and linking Google Drive "
      ]
    },
    {
      "cell_type": "code",
      "metadata": {
        "id": "fcx0G0j2np-j",
        "colab_type": "code",
        "outputId": "61ef2f0c-49e5-4830-ca5d-13ab161f954b",
        "colab": {
          "base_uri": "https://localhost:8080/",
          "height": 274
        }
      },
      "source": [
        "!pip install pyDrive"
      ],
      "execution_count": 0,
      "outputs": [
        {
          "output_type": "stream",
          "text": [
            "Requirement already satisfied: pyDrive in /usr/local/lib/python3.6/dist-packages (1.3.1)\n",
            "Requirement already satisfied: google-api-python-client>=1.2 in /usr/local/lib/python3.6/dist-packages (from pyDrive) (1.7.12)\n",
            "Requirement already satisfied: oauth2client>=4.0.0 in /usr/local/lib/python3.6/dist-packages (from pyDrive) (4.1.3)\n",
            "Requirement already satisfied: PyYAML>=3.0 in /usr/local/lib/python3.6/dist-packages (from pyDrive) (3.13)\n",
            "Requirement already satisfied: httplib2<1dev,>=0.17.0 in /usr/local/lib/python3.6/dist-packages (from google-api-python-client>=1.2->pyDrive) (0.17.4)\n",
            "Requirement already satisfied: six<2dev,>=1.6.1 in /usr/local/lib/python3.6/dist-packages (from google-api-python-client>=1.2->pyDrive) (1.12.0)\n",
            "Requirement already satisfied: google-auth>=1.4.1 in /usr/local/lib/python3.6/dist-packages (from google-api-python-client>=1.2->pyDrive) (1.7.2)\n",
            "Requirement already satisfied: uritemplate<4dev,>=3.0.0 in /usr/local/lib/python3.6/dist-packages (from google-api-python-client>=1.2->pyDrive) (3.0.1)\n",
            "Requirement already satisfied: google-auth-httplib2>=0.0.3 in /usr/local/lib/python3.6/dist-packages (from google-api-python-client>=1.2->pyDrive) (0.0.3)\n",
            "Requirement already satisfied: rsa>=3.1.4 in /usr/local/lib/python3.6/dist-packages (from oauth2client>=4.0.0->pyDrive) (4.0)\n",
            "Requirement already satisfied: pyasn1>=0.1.7 in /usr/local/lib/python3.6/dist-packages (from oauth2client>=4.0.0->pyDrive) (0.4.8)\n",
            "Requirement already satisfied: pyasn1-modules>=0.0.5 in /usr/local/lib/python3.6/dist-packages (from oauth2client>=4.0.0->pyDrive) (0.2.8)\n",
            "Requirement already satisfied: setuptools>=40.3.0 in /usr/local/lib/python3.6/dist-packages (from google-auth>=1.4.1->google-api-python-client>=1.2->pyDrive) (47.1.1)\n",
            "Requirement already satisfied: cachetools<3.2,>=2.0.0 in /usr/local/lib/python3.6/dist-packages (from google-auth>=1.4.1->google-api-python-client>=1.2->pyDrive) (3.1.1)\n"
          ],
          "name": "stdout"
        }
      ]
    },
    {
      "cell_type": "markdown",
      "metadata": {
        "id": "XhB-ebstpA5M",
        "colab_type": "text"
      },
      "source": [
        "**Importing Google Drive support libraries**"
      ]
    },
    {
      "cell_type": "code",
      "metadata": {
        "id": "vp2rvbYNoTQW",
        "colab_type": "code",
        "colab": {}
      },
      "source": [
        "import os\n",
        "from pydrive.auth import GoogleAuth\n",
        "from pydrive.drive import GoogleDrive\n",
        "from google.colab import auth\n",
        "from oauth2client.client import GoogleCredentials"
      ],
      "execution_count": 0,
      "outputs": []
    },
    {
      "cell_type": "markdown",
      "metadata": {
        "id": "SRZxNOohpQol",
        "colab_type": "text"
      },
      "source": [
        "**Creating a drive variable to access Google Drive**\n",
        "\n"
      ]
    },
    {
      "cell_type": "code",
      "metadata": {
        "id": "Gf3CwqICo7dA",
        "colab_type": "code",
        "colab": {}
      },
      "source": [
        "auth.authenticate_user()\n",
        "gauth = GoogleAuth()\n",
        "gauth.credentials = GoogleCredentials.get_application_default()\n",
        "drive = GoogleDrive(gauth)"
      ],
      "execution_count": 0,
      "outputs": []
    },
    {
      "cell_type": "markdown",
      "metadata": {
        "id": "c4S7IIFFv-_s",
        "colab_type": "text"
      },
      "source": [
        "**Downlaod and Unzip the file** "
      ]
    },
    {
      "cell_type": "code",
      "metadata": {
        "id": "7dnMyF9eqRyo",
        "colab_type": "code",
        "colab": {}
      },
      "source": [
        "download = drive.CreateFile({'id' : '1zoyDVBWsZhfxHJnIagvUJeXKN-9oZ2Hz'}) # unique file id of train data from google drive "
      ],
      "execution_count": 0,
      "outputs": []
    },
    {
      "cell_type": "code",
      "metadata": {
        "id": "4s-SdiQxu5P3",
        "colab_type": "code",
        "colab": {}
      },
      "source": [
        "download.GetContentFile('train_LbELtWX.zip')\n",
        "!unzip train_LbELtWX.zip"
      ],
      "execution_count": 0,
      "outputs": []
    },
    {
      "cell_type": "markdown",
      "metadata": {
        "id": "SLJ9Y0j4vRZr",
        "colab_type": "text"
      },
      "source": [
        "# Main"
      ]
    },
    {
      "cell_type": "markdown",
      "metadata": {
        "id": "nSzN-uQhwPSZ",
        "colab_type": "text"
      },
      "source": [
        "**1. Importing Libraries**"
      ]
    },
    {
      "cell_type": "code",
      "metadata": {
        "id": "LG-I9B0KvLB_",
        "colab_type": "code",
        "colab": {}
      },
      "source": [
        "import keras\n",
        "from keras.models import Sequential\n",
        "from keras.layers import Dense\n",
        "from keras.layers import Conv2D\n",
        "from keras.layers import Flatten\n",
        "from keras.layers import MaxPool2D\n",
        "from keras.layers import Dropout\n",
        "from keras.preprocessing import image\n",
        "import tensorflow as tf\n",
        "\n",
        "import numpy as np\n",
        "import pandas as pd\n",
        "import matplotlib.pyplot as plt\n",
        "from sklearn.model_selection import train_test_split\n",
        "\n",
        "from tqdm import tqdm # display progress bar"
      ],
      "execution_count": 0,
      "outputs": []
    },
    {
      "cell_type": "markdown",
      "metadata": {
        "id": "J1i3Y_ZKxDL_",
        "colab_type": "text"
      },
      "source": [
        "**2. Loading and Preprocessing**"
      ]
    },
    {
      "cell_type": "markdown",
      "metadata": {
        "id": "KllhtGIg0HXi",
        "colab_type": "text"
      },
      "source": [
        " *Dataset contains 60,000 images (28 x 28) as part of train images along with 'train.csv' containing the label of the type of apparel (total classes: 10)*\n",
        "\n",
        " *Given below is the code description for each of the apparel class/label.*\n",
        "\n",
        "0. *T-shirt/top*\n",
        "1. \t*Trouser*\n",
        "2. \t*Pullover*\n",
        "3. \t*Dress*\n",
        "4. \t*Coat*\n",
        "5. \t*Sandal*\n",
        "6. \t*Shirt*\n",
        "7. \t*Sneaker*\n",
        "8. \t*Bag*\n",
        "9. \t*Ankle boot*\n",
        "\n"
      ]
    },
    {
      "cell_type": "markdown",
      "metadata": {
        "id": "2RhpvNvdWg-p",
        "colab_type": "text"
      },
      "source": [
        "> Reading, storing and converting the images to a numpy array\n"
      ]
    },
    {
      "cell_type": "code",
      "metadata": {
        "id": "8WGLjVTyz0mu",
        "colab_type": "code",
        "colab": {}
      },
      "source": [
        "train = pd.read_csv('train.csv')"
      ],
      "execution_count": 0,
      "outputs": []
    },
    {
      "cell_type": "code",
      "metadata": {
        "id": "AqBQLTgixCyf",
        "colab_type": "code",
        "outputId": "92561d19-503e-4080-ab63-cffc450d4e6b",
        "colab": {
          "base_uri": "https://localhost:8080/",
          "height": 36
        }
      },
      "source": [
        "train_images = []\n",
        "for i in tqdm(range(train.shape[0])):\n",
        "  img = image.load_img('train/'+train['id'][i].astype('str')+'.png', color_mode = 'grayscale', target_size = (28,28,1)) # load the image\n",
        "  img = image.img_to_array(img) # convert image to a list of values\n",
        "  img = img/255 # scale the list to range 0 - 1 (0 is 0(0x0) and 1 is 255(0xFF))\n",
        "  train_images.append(img) # append the array to 'train_images'\n",
        "X = np.array(train_images) # convert the list to a nupy array"
      ],
      "execution_count": 131,
      "outputs": [
        {
          "output_type": "stream",
          "text": [
            "100%|██████████| 60000/60000 [00:17<00:00, 3423.65it/s]\n"
          ],
          "name": "stderr"
        }
      ]
    },
    {
      "cell_type": "markdown",
      "metadata": {
        "id": "zQKsci_NFo53",
        "colab_type": "text"
      },
      "source": [
        "> One Hot Encoding Categorical Data"
      ]
    },
    {
      "cell_type": "code",
      "metadata": {
        "id": "LcckXZgqE-ZZ",
        "colab_type": "code",
        "outputId": "2a188bad-9d15-476e-c2c6-957dd4e6a463",
        "colab": {
          "base_uri": "https://localhost:8080/",
          "height": 148
        }
      },
      "source": [
        "y = train['label'].values\n",
        "y = tf.keras.utils.to_categorical(y)\n",
        "y"
      ],
      "execution_count": 132,
      "outputs": [
        {
          "output_type": "execute_result",
          "data": {
            "text/plain": [
              "array([[0., 0., 0., ..., 0., 0., 1.],\n",
              "       [1., 0., 0., ..., 0., 0., 0.],\n",
              "       [1., 0., 0., ..., 0., 0., 0.],\n",
              "       ...,\n",
              "       [0., 0., 0., ..., 0., 0., 0.],\n",
              "       [1., 0., 0., ..., 0., 0., 0.],\n",
              "       [0., 0., 0., ..., 0., 0., 0.]], dtype=float32)"
            ]
          },
          "metadata": {
            "tags": []
          },
          "execution_count": 132
        }
      ]
    },
    {
      "cell_type": "markdown",
      "metadata": {
        "id": "H-cp8U8nAl0_",
        "colab_type": "text"
      },
      "source": [
        "**3. Creating a validation set from training data**"
      ]
    },
    {
      "cell_type": "code",
      "metadata": {
        "id": "4c8-w6jwFZ9h",
        "colab_type": "code",
        "colab": {}
      },
      "source": [
        "X_train, X_test, y_train, y_test = train_test_split(X, y, test_size = 0.2, random_state = 42)"
      ],
      "execution_count": 0,
      "outputs": []
    },
    {
      "cell_type": "markdown",
      "metadata": {
        "id": "9TRX5p3cC6Ew",
        "colab_type": "text"
      },
      "source": [
        "**4. Defining model structure**\n",
        "\n",
        "\n",
        "\n"
      ]
    },
    {
      "cell_type": "markdown",
      "metadata": {
        "id": "jW3dzPMfQyKe",
        "colab_type": "text"
      },
      "source": [
        "> Creating 2 Convolution layers, 2 Hidden layers and 1 Output layer "
      ]
    },
    {
      "cell_type": "code",
      "metadata": {
        "id": "d9dPjqwyC4P6",
        "colab_type": "code",
        "colab": {}
      },
      "source": [
        "# initializing the neural network\n",
        "classifier = Sequential()\n",
        "# convolution layer 1\n",
        "classifier.add(Conv2D(filters = 32, kernel_size=(3,3), activation = 'relu', input_shape = (28,28,1))) # 32 feature detectors, each with size 3x3\n",
        "# max pooling\n",
        "classifier.add(MaxPool2D(pool_size = (2,2), strides = 2))\n",
        "# dropout layer\n",
        "classifier.add(Dropout(rate = 0.25))\n",
        "\n",
        "# convolution layer 2\n",
        "classifier.add(Conv2D(filters = 64, kernel_size=(3, 3), activation = 'relu'))\n",
        "# second max pooling layer\n",
        "classifier.add(MaxPool2D(pool_size = (2,2), strides = 2))\n",
        "# dropout layer\n",
        "classifier.add(Dropout(rate = 0.25))\n",
        "\n",
        "\n",
        "# flatten layer\n",
        "classifier.add(Flatten())\n",
        "\n",
        "# hidden layer\n",
        "classifier.add(Dense(units = 128, activation = 'relu', ))\n",
        "# dropout layer\n",
        "classifier.add(Dropout(rate = 0.5))\n",
        "\n",
        "# hidden layer 2\n",
        "classifier.add(Dense(units = 64, activation = 'relu', ))\n",
        "# dropout layer\n",
        "classifier.add(Dropout(rate = 0.4))\n",
        "# output later\n",
        "classifier.add(Dense(units = 10, activation = 'softmax' ))\n",
        "\n",
        "# compiling the model\n",
        "classifier.compile(optimizer = 'Adam', loss = 'categorical_crossentropy', metrics = ['accuracy'])\n"
      ],
      "execution_count": 0,
      "outputs": []
    },
    {
      "cell_type": "markdown",
      "metadata": {
        "id": "Z0cXmmepUoKk",
        "colab_type": "text"
      },
      "source": [
        "**5. Training the Model**"
      ]
    },
    {
      "cell_type": "code",
      "metadata": {
        "id": "_wVGrlb1UvtV",
        "colab_type": "code",
        "colab": {
          "base_uri": "https://localhost:8080/",
          "height": 616
        },
        "outputId": "9b019d1a-33f9-414b-e61b-4d698782ba59"
      },
      "source": [
        "classifier.fit(X_train, y_train, batch_size = 32, epochs = 15, validation_data = (X_test, y_test))"
      ],
      "execution_count": 167,
      "outputs": [
        {
          "output_type": "stream",
          "text": [
            "Train on 48000 samples, validate on 12000 samples\n",
            "Epoch 1/15\n",
            "48000/48000 [==============================] - 51s 1ms/step - loss: 0.7946 - accuracy: 0.7061 - val_loss: 0.4669 - val_accuracy: 0.8170\n",
            "Epoch 2/15\n",
            "48000/48000 [==============================] - 51s 1ms/step - loss: 0.5222 - accuracy: 0.8101 - val_loss: 0.3889 - val_accuracy: 0.8598\n",
            "Epoch 3/15\n",
            "48000/48000 [==============================] - 51s 1ms/step - loss: 0.4504 - accuracy: 0.8409 - val_loss: 0.3417 - val_accuracy: 0.8729\n",
            "Epoch 4/15\n",
            "48000/48000 [==============================] - 51s 1ms/step - loss: 0.4130 - accuracy: 0.8553 - val_loss: 0.3181 - val_accuracy: 0.8851\n",
            "Epoch 5/15\n",
            "48000/48000 [==============================] - 51s 1ms/step - loss: 0.3898 - accuracy: 0.8627 - val_loss: 0.3139 - val_accuracy: 0.8840\n",
            "Epoch 6/15\n",
            "48000/48000 [==============================] - 51s 1ms/step - loss: 0.3721 - accuracy: 0.8701 - val_loss: 0.2919 - val_accuracy: 0.8928\n",
            "Epoch 7/15\n",
            "48000/48000 [==============================] - 51s 1ms/step - loss: 0.3555 - accuracy: 0.8745 - val_loss: 0.2815 - val_accuracy: 0.8960\n",
            "Epoch 8/15\n",
            "48000/48000 [==============================] - 54s 1ms/step - loss: 0.3489 - accuracy: 0.8785 - val_loss: 0.2824 - val_accuracy: 0.8979\n",
            "Epoch 9/15\n",
            "48000/48000 [==============================] - 51s 1ms/step - loss: 0.3322 - accuracy: 0.8823 - val_loss: 0.2891 - val_accuracy: 0.8938\n",
            "Epoch 10/15\n",
            "48000/48000 [==============================] - 51s 1ms/step - loss: 0.3257 - accuracy: 0.8848 - val_loss: 0.2690 - val_accuracy: 0.9012\n",
            "Epoch 11/15\n",
            "48000/48000 [==============================] - 51s 1ms/step - loss: 0.3202 - accuracy: 0.8857 - val_loss: 0.2692 - val_accuracy: 0.9013\n",
            "Epoch 12/15\n",
            "48000/48000 [==============================] - 51s 1ms/step - loss: 0.3159 - accuracy: 0.8881 - val_loss: 0.2547 - val_accuracy: 0.9069\n",
            "Epoch 13/15\n",
            "48000/48000 [==============================] - 51s 1ms/step - loss: 0.3109 - accuracy: 0.8886 - val_loss: 0.2650 - val_accuracy: 0.9046\n",
            "Epoch 14/15\n",
            "48000/48000 [==============================] - 51s 1ms/step - loss: 0.3058 - accuracy: 0.8895 - val_loss: 0.2567 - val_accuracy: 0.9062\n",
            "Epoch 15/15\n",
            "48000/48000 [==============================] - 51s 1ms/step - loss: 0.2991 - accuracy: 0.8924 - val_loss: 0.2605 - val_accuracy: 0.9038\n"
          ],
          "name": "stdout"
        },
        {
          "output_type": "execute_result",
          "data": {
            "text/plain": [
              "<keras.callbacks.callbacks.History at 0x7f8c92c630f0>"
            ]
          },
          "metadata": {
            "tags": []
          },
          "execution_count": 167
        }
      ]
    },
    {
      "cell_type": "markdown",
      "metadata": {
        "id": "nzuKCFAeVzSp",
        "colab_type": "text"
      },
      "source": [
        "**6. Making predictions on train data**"
      ]
    },
    {
      "cell_type": "markdown",
      "metadata": {
        "id": "QQVD9ZNvZ6mT",
        "colab_type": "text"
      },
      "source": [
        "> Downloading and unziping the training dataset"
      ]
    },
    {
      "cell_type": "code",
      "metadata": {
        "id": "zdxYICcUVy2X",
        "colab_type": "code",
        "colab": {}
      },
      "source": [
        "download_test = drive.CreateFile({'id': '152Do2m-MMkG-VHfbvs9kJrhNPKzdsf4a'}) # unique file id of test data from google drive \n",
        "download_test.GetContentFile('test_ScVgIM0.zip')\n",
        "!unzip test_ScVgIM0.zip"
      ],
      "execution_count": 0,
      "outputs": []
    },
    {
      "cell_type": "markdown",
      "metadata": {
        "id": "vA87pH4pgVQc",
        "colab_type": "text"
      },
      "source": [
        "> Import test file"
      ]
    },
    {
      "cell_type": "code",
      "metadata": {
        "id": "ZufClvC0gUwo",
        "colab_type": "code",
        "colab": {}
      },
      "source": [
        "test = pd.read_csv('test.csv')"
      ],
      "execution_count": 0,
      "outputs": []
    },
    {
      "cell_type": "markdown",
      "metadata": {
        "id": "NUDFW5XOaQCC",
        "colab_type": "text"
      },
      "source": [
        "\n",
        "\n",
        "> Load and convert test data\n",
        "\n"
      ]
    },
    {
      "cell_type": "code",
      "metadata": {
        "id": "KVbLh7zua8g5",
        "colab_type": "code",
        "colab": {
          "base_uri": "https://localhost:8080/",
          "height": 36
        },
        "outputId": "6a6eaed1-fef4-40ba-a91d-2d48d099b4e6"
      },
      "source": [
        "test_images = []\n",
        "for i in tqdm(range(test.shape[0])):\n",
        "  img = image.load_img('test/'+test['id'][i].astype('str')+'.png', target_size = (28,28,1), color_mode = 'grayscale')\n",
        "  img = image.img_to_array(img)\n",
        "  img = img/255\n",
        "  test_images.append(img) \n",
        "test = np.array(test_images)"
      ],
      "execution_count": 95,
      "outputs": [
        {
          "output_type": "stream",
          "text": [
            "100%|██████████| 10000/10000 [00:02<00:00, 3450.08it/s]\n"
          ],
          "name": "stderr"
        }
      ]
    },
    {
      "cell_type": "markdown",
      "metadata": {
        "id": "dHOrUqUrhDae",
        "colab_type": "text"
      },
      "source": [
        "> Making predictions"
      ]
    },
    {
      "cell_type": "code",
      "metadata": {
        "id": "LyMVvSJybxRI",
        "colab_type": "code",
        "colab": {
          "base_uri": "https://localhost:8080/",
          "height": 36
        },
        "outputId": "52f406f4-e59a-45e0-c280-fe7f9d55b88d"
      },
      "source": [
        "prediction = classifier.predict_classes(test)\n",
        "prediction"
      ],
      "execution_count": 77,
      "outputs": [
        {
          "output_type": "execute_result",
          "data": {
            "text/plain": [
              "array([9, 2, 1, ..., 8, 1, 5])"
            ]
          },
          "metadata": {
            "tags": []
          },
          "execution_count": 77
        }
      ]
    },
    {
      "cell_type": "markdown",
      "metadata": {
        "id": "AcAV9-ePlxTf",
        "colab_type": "text"
      },
      "source": [
        "**7. Creating Output File** "
      ]
    },
    {
      "cell_type": "markdown",
      "metadata": {
        "id": "mSbdVf4LV1d0",
        "colab_type": "text"
      },
      "source": [
        "> Create an output dataframe\n"
      ]
    },
    {
      "cell_type": "code",
      "metadata": {
        "id": "Z0hUGoHvmtJd",
        "colab_type": "code",
        "colab": {
          "base_uri": "https://localhost:8080/",
          "height": 54
        },
        "outputId": "59ab383b-55a4-400c-d8e5-64dece3ebe22"
      },
      "source": [
        "id = []\n",
        "label = []\n",
        "j = 0\n",
        "for i in tqdm(range(test.shape[0])):\n",
        "    label.append(i+60001) #starts from 60001, based on test data\n",
        "    id.append(prediction[j])\n",
        "    j = j+1\n",
        "output_file = pd.DataFrame(np.column_stack([label, id]),columns=['id', 'label']) #merge id and label "
      ],
      "execution_count": 305,
      "outputs": [
        {
          "output_type": "stream",
          "text": [
            "\n",
            "100%|██████████| 10000/10000 [00:00<00:00, 681900.86it/s]\n"
          ],
          "name": "stderr"
        }
      ]
    },
    {
      "cell_type": "code",
      "metadata": {
        "id": "CnKBZ_7DjGLx",
        "colab_type": "code",
        "colab": {
          "base_uri": "https://localhost:8080/",
          "height": 424
        },
        "outputId": "5c1aee70-02a7-473e-e8ce-2ee80ca09740"
      },
      "source": [
        "output_file"
      ],
      "execution_count": 306,
      "outputs": [
        {
          "output_type": "execute_result",
          "data": {
            "text/html": [
              "<div>\n",
              "<style scoped>\n",
              "    .dataframe tbody tr th:only-of-type {\n",
              "        vertical-align: middle;\n",
              "    }\n",
              "\n",
              "    .dataframe tbody tr th {\n",
              "        vertical-align: top;\n",
              "    }\n",
              "\n",
              "    .dataframe thead th {\n",
              "        text-align: right;\n",
              "    }\n",
              "</style>\n",
              "<table border=\"1\" class=\"dataframe\">\n",
              "  <thead>\n",
              "    <tr style=\"text-align: right;\">\n",
              "      <th></th>\n",
              "      <th>id</th>\n",
              "      <th>label</th>\n",
              "    </tr>\n",
              "  </thead>\n",
              "  <tbody>\n",
              "    <tr>\n",
              "      <th>0</th>\n",
              "      <td>60001</td>\n",
              "      <td>9</td>\n",
              "    </tr>\n",
              "    <tr>\n",
              "      <th>1</th>\n",
              "      <td>60002</td>\n",
              "      <td>2</td>\n",
              "    </tr>\n",
              "    <tr>\n",
              "      <th>2</th>\n",
              "      <td>60003</td>\n",
              "      <td>1</td>\n",
              "    </tr>\n",
              "    <tr>\n",
              "      <th>3</th>\n",
              "      <td>60004</td>\n",
              "      <td>1</td>\n",
              "    </tr>\n",
              "    <tr>\n",
              "      <th>4</th>\n",
              "      <td>60005</td>\n",
              "      <td>6</td>\n",
              "    </tr>\n",
              "    <tr>\n",
              "      <th>...</th>\n",
              "      <td>...</td>\n",
              "      <td>...</td>\n",
              "    </tr>\n",
              "    <tr>\n",
              "      <th>9995</th>\n",
              "      <td>69996</td>\n",
              "      <td>9</td>\n",
              "    </tr>\n",
              "    <tr>\n",
              "      <th>9996</th>\n",
              "      <td>69997</td>\n",
              "      <td>1</td>\n",
              "    </tr>\n",
              "    <tr>\n",
              "      <th>9997</th>\n",
              "      <td>69998</td>\n",
              "      <td>8</td>\n",
              "    </tr>\n",
              "    <tr>\n",
              "      <th>9998</th>\n",
              "      <td>69999</td>\n",
              "      <td>1</td>\n",
              "    </tr>\n",
              "    <tr>\n",
              "      <th>9999</th>\n",
              "      <td>70000</td>\n",
              "      <td>5</td>\n",
              "    </tr>\n",
              "  </tbody>\n",
              "</table>\n",
              "<p>10000 rows × 2 columns</p>\n",
              "</div>"
            ],
            "text/plain": [
              "         id  label\n",
              "0     60001      9\n",
              "1     60002      2\n",
              "2     60003      1\n",
              "3     60004      1\n",
              "4     60005      6\n",
              "...     ...    ...\n",
              "9995  69996      9\n",
              "9996  69997      1\n",
              "9997  69998      8\n",
              "9998  69999      1\n",
              "9999  70000      5\n",
              "\n",
              "[10000 rows x 2 columns]"
            ]
          },
          "metadata": {
            "tags": []
          },
          "execution_count": 306
        }
      ]
    },
    {
      "cell_type": "markdown",
      "metadata": {
        "id": "ZBrrUfOvl9bT",
        "colab_type": "text"
      },
      "source": [
        "> Output as .csv"
      ]
    },
    {
      "cell_type": "code",
      "metadata": {
        "id": "3-QQvy0QmMCu",
        "colab_type": "code",
        "colab": {}
      },
      "source": [
        "output_file.to_csv('file.csv', header = True, index = False)"
      ],
      "execution_count": 0,
      "outputs": []
    },
    {
      "cell_type": "code",
      "metadata": {
        "id": "FrAciSXLj8bz",
        "colab_type": "code",
        "colab": {}
      },
      "source": [
        ""
      ],
      "execution_count": 0,
      "outputs": []
    }
  ]
}
